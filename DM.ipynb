{
  "cells": [
    {
      "cell_type": "markdown",
      "metadata": {
        "id": "view-in-github",
        "colab_type": "text"
      },
      "source": [
        "<a href=\"https://colab.research.google.com/github/ranaateff/OSC_task/blob/main/DM.ipynb\" target=\"_parent\"><img src=\"https://colab.research.google.com/assets/colab-badge.svg\" alt=\"Open In Colab\"/></a>"
      ]
    },
    {
      "cell_type": "code",
      "execution_count": 37,
      "metadata": {
        "colab": {
          "base_uri": "https://localhost:8080/"
        },
        "id": "rAYo3adjyViI",
        "outputId": "20ab1466-15b3-4d80-f453-44b7bfa4442c"
      },
      "outputs": [
        {
          "output_type": "stream",
          "name": "stdout",
          "text": [
            "Requirement already satisfied: openpyxl in /usr/local/lib/python3.10/dist-packages (3.1.5)\n",
            "Requirement already satisfied: et-xmlfile in /usr/local/lib/python3.10/dist-packages (from openpyxl) (2.0.0)\n"
          ]
        }
      ],
      "source": [
        "#Import Data\n",
        "from collections import defaultdict\n",
        "import matplotlib.pyplot as plt\n",
        "import seaborn as sns\n",
        "import pandas as pd\n",
        "import numpy as np\n",
        "import itertools\n",
        "from functools import reduce\n",
        "from itertools import combinations\n",
        "\n",
        "!pip install openpyxl"
      ]
    },
    {
      "cell_type": "code",
      "execution_count": 38,
      "metadata": {
        "id": "m5GwDbSmymw0"
      },
      "outputs": [],
      "source": [
        "file_path = '/content/Horizontal_Format.xlsx'\n",
        "Data=pd.read_excel(\"/content/Horizontal_Format.xlsx\")\n",
        "data = [set(str(row[1]).split(',')) for row in Data.itertuples(index=False)]\n",
        "items = set(item for transaction in data for item in transaction)"
      ]
    },
    {
      "cell_type": "code",
      "execution_count": 39,
      "metadata": {
        "id": "jkivaxIFMtuO"
      },
      "outputs": [],
      "source": [
        "# print(data)"
      ]
    },
    {
      "cell_type": "code",
      "execution_count": 40,
      "metadata": {
        "id": "X8H2uTHI9XCi"
      },
      "outputs": [],
      "source": [
        "#Variables\n",
        "min_support = 3\n",
        "min_conf = 0.8"
      ]
    },
    {
      "cell_type": "code",
      "execution_count": 41,
      "metadata": {
        "id": "k2buCfarDeK1"
      },
      "outputs": [],
      "source": [
        "# Generate combinations\n",
        "def generate_combinations(items, length):\n",
        "    if length == 1:\n",
        "        return [[item] for item in items]\n",
        "    combinations = []\n",
        "    for i in range(len(items)):\n",
        "        first_item = items[i]\n",
        "        remaining_combinations = generate_combinations(items[i + 1:], length - 1)\n",
        "        for combination in remaining_combinations:\n",
        "            combinations.append([first_item] + combination)\n",
        "    return combinations\n",
        "\n",
        "\n",
        "# Calculate support\n",
        "def calculate_support(data, itemset):\n",
        "    support_count = 0\n",
        "    for transaction in data:\n",
        "        all_items_present = True\n",
        "        for item in itemset:\n",
        "            if item not in transaction:\n",
        "                all_items_present = False\n",
        "                break\n",
        "        if all_items_present:\n",
        "            support_count += 1\n",
        "    return support_count\n",
        "\n",
        "# Generate frequent itemsets\n",
        "def generate_frequent_itemsets(data, items, min_support, length):\n",
        "    frequent_itemsets = {}\n",
        "    combinations = generate_combinations(list(items), length)\n",
        "    for i in combinations:\n",
        "        support = calculate_support(data, i)\n",
        "        if support >= min_support:\n",
        "            frequent_itemsets[frozenset(i)] = support\n",
        "    return frequent_itemsets"
      ]
    },
    {
      "cell_type": "code",
      "execution_count": 42,
      "metadata": {
        "id": "EiFR4xn2M7hr"
      },
      "outputs": [],
      "source": [
        "# Generate frequent itemsets for all lengths\n",
        "def generate_frequent_itemsets_for_lengths(data, items, min_support):\n",
        "    all_frequent_itemsets = {}\n",
        "    for all_length in range(1, len(items) + 1):\n",
        "        frequent_itemsets = generate_frequent_itemsets(data, items, min_support, all_length)\n",
        "        all_frequent_itemsets.update(frequent_itemsets)\n",
        "    return all_frequent_itemsets"
      ]
    },
    {
      "cell_type": "code",
      "execution_count": 43,
      "metadata": {
        "id": "MZ7Hnf98Dn1l"
      },
      "outputs": [],
      "source": [
        "# Display frequent itemsets and their support counts\n",
        "def display_frequent_itemsets(frequent_itemsets):\n",
        "    print(\"\\nFrequent Itemsets\")\n",
        "    current_level = None  # Tracking variable\n",
        "\n",
        "    for itemset, support in frequent_itemsets.items():\n",
        "        level = len(itemset)  # Level of itemset\n",
        "\n",
        "        if level != current_level:\n",
        "            print(f\"\\nLevel {level}:\")\n",
        "            current_level = level\n",
        "\n",
        "        print(f\"Itemset: {set(itemset)}, Support: {support}\")"
      ]
    },
    {
      "cell_type": "code",
      "execution_count": 44,
      "metadata": {
        "id": "rDkG_OWjZI2t",
        "outputId": "6eccc640-b322-4150-f331-151e194cfc7b",
        "colab": {
          "base_uri": "https://localhost:8080/",
          "height": 807
        }
      },
      "outputs": [
        {
          "output_type": "display_data",
          "data": {
            "text/plain": [
              "<Figure size 1200x800 with 1 Axes>"
            ],
            "image/png": "[encoded data removed]"
          },
          "metadata": {}
        }
      ],
      "source": [
        "# Generate frequent itemsets (using your data, items, and min_support)\n",
        "frequent_itemsets = generate_frequent_itemsets_for_lengths(data, items, min_support)\n",
        "# b5lehom list of dictionary\n",
        "frequent_itemsets_list = [{'Itemset': ' '.join(map(str, itemset)), 'Support': support}\n",
        "                          for itemset, support in frequent_itemsets.items()]\n",
        "\n",
        "# Convert the list to a DataFrame using pandas\n",
        "frequent_itemsets_df = pd.DataFrame(frequent_itemsets_list)\n",
        "\n",
        "# Sort the data by support to make it easier to read\n",
        "# frequent_itemsets_df = frequent_itemsets_df.sort_values(by='Support', ascending=False) دى اختيارى ع حسب احنا حابيين نعرضهم ازاى\n",
        "\n",
        "plt.figure(figsize=(12, 8))\n",
        "sns.barplot(data=frequent_itemsets_df, x='Support', y='Itemset', palette='coolwarm', hue='Itemset', dodge=False)\n",
        "\n",
        "plt.title('Frequent Itemsets Support', fontsize=16)\n",
        "plt.xlabel('Support', fontsize=14)\n",
        "plt.ylabel('Itemsets', fontsize=14)\n",
        "plt.xticks(fontsize=12)\n",
        "plt.yticks(fontsize=12)\n",
        "plt.tight_layout()\n",
        "\n",
        "# Display the plot\n",
        "plt.show()\n"
      ]
    },
    {
      "cell_type": "code",
      "source": [
        "def generate_association_rules(frequent_itemsets):\n",
        "    rules_list = []\n",
        "    for itemset in frequent_itemsets.keys():\n",
        "        if len(itemset) > 1:  # Only consider itemsets with more than one item\n",
        "            for item in itemset:\n",
        "                left_hand_side = itemset - frozenset([item])  # Left-hand side (A)\n",
        "                right_hand_side = frozenset([item])  # Right-hand side (B)\n",
        "\n",
        "                if left_hand_side:  # Ensure left_hand_side is not empty\n",
        "                    # Calculate support and confidence\n",
        "                    support_left_hand_side = frequent_itemsets.get(left_hand_side, 0)\n",
        "                    support_union = frequent_itemsets[itemset]\n",
        "                    confidence = support_union / support_left_hand_side if support_left_hand_side > 0 else 0\n",
        "\n",
        "                    rules_list.append((left_hand_side, right_hand_side, confidence))\n",
        "    return rules_list\n",
        "\n",
        "# b generate el association rules\n",
        "association_rules = generate_association_rules(frequent_itemsets)\n",
        "\n",
        "# Display the rules\n",
        "print(\"\\nAssociation Rules:\")\n",
        "for left_hand_side, right_hand_side, confidence in association_rules:\n",
        "    print(f\"Rule: {set(left_hand_side)} -> {set(right_hand_side)}, Confidence: {confidence:.2f} \")\n"
      ],
      "metadata": {
        "colab": {
          "base_uri": "https://localhost:8080/"
        },
        "id": "gz91wf4PJ4ag",
        "outputId": "21a761c7-587a-4250-9801-f4b4a21db2f4"
      },
      "execution_count": 45,
      "outputs": [
        {
          "output_type": "stream",
          "name": "stdout",
          "text": [
            "\n",
            "Association Rules:\n",
            "Rule: {'K'} -> {'M'}, Confidence: 0.60 \n",
            "Rule: {'M'} -> {'K'}, Confidence: 1.00 \n",
            "Rule: {'E'} -> {'K'}, Confidence: 1.00 \n",
            "Rule: {'K'} -> {'E'}, Confidence: 0.80 \n",
            "Rule: {'K'} -> {'O'}, Confidence: 0.60 \n",
            "Rule: {'O'} -> {'K'}, Confidence: 1.00 \n",
            "Rule: {'K'} -> {'Y'}, Confidence: 0.60 \n",
            "Rule: {'Y'} -> {'K'}, Confidence: 1.00 \n",
            "Rule: {'E'} -> {'O'}, Confidence: 0.75 \n",
            "Rule: {'O'} -> {'E'}, Confidence: 1.00 \n",
            "Rule: {'K', 'E'} -> {'O'}, Confidence: 0.75 \n",
            "Rule: {'O', 'E'} -> {'K'}, Confidence: 1.00 \n",
            "Rule: {'O', 'K'} -> {'E'}, Confidence: 1.00 \n"
          ]
        }
      ]
    },
    {
      "cell_type": "code",
      "execution_count": 46,
      "metadata": {
        "id": "-Zsk9yqFZI2t",
        "outputId": "4b2db3d7-bd74-4795-f411-f0e50bc701d9",
        "colab": {
          "base_uri": "https://localhost:8080/"
        }
      },
      "outputs": [
        {
          "output_type": "stream",
          "name": "stdout",
          "text": [
            "\n",
            "Strong Rules:\n",
            "Rule: {'M'} -> {'K'}, Confidence: 1.00\n",
            "Rule: {'E'} -> {'K'}, Confidence: 1.00\n",
            "Rule: {'K'} -> {'E'}, Confidence: 0.80\n",
            "Rule: {'O'} -> {'K'}, Confidence: 1.00\n",
            "Rule: {'Y'} -> {'K'}, Confidence: 1.00\n",
            "Rule: {'O'} -> {'E'}, Confidence: 1.00\n",
            "Rule: {'O', 'E'} -> {'K'}, Confidence: 1.00\n",
            "Rule: {'O', 'K'} -> {'E'}, Confidence: 1.00\n"
          ]
        }
      ],
      "source": [
        "theRules =generate_association_rules(frequent_itemsets)\n",
        "def extract_strong_rules(theRules,min_conf):\n",
        "  strong_rules_list=[]\n",
        "  for left_hand_side, right_hand_side, confidence in theRules:  #b loop 3la list rules bshof men el conf bta3o akbr mn min conf\n",
        "    if confidence >= min_conf:\n",
        "     strong_rules_list.append((left_hand_side, right_hand_side, confidence))\n",
        "\n",
        "  return strong_rules_list\n",
        "\n",
        "\n",
        "strongRules =extract_strong_rules(theRules,min_conf)\n",
        "# Display the rules\n",
        "print(\"\\nStrong Rules:\")\n",
        "for left_hand_side, right_hand_side, confidence in strongRules:\n",
        "    print(f\"Rule: {set(left_hand_side)} -> {set(right_hand_side)}, Confidence: {confidence:.2f}\")"
      ]
    },
    {
      "cell_type": "code",
      "execution_count": 47,
      "metadata": {
        "id": "fcXHiufMZI2u",
        "outputId": "331945a4-a6a9-4e82-f11d-17aa1c3b837e",
        "colab": {
          "base_uri": "https://localhost:8080/"
        }
      },
      "outputs": [
        {
          "output_type": "stream",
          "name": "stdout",
          "text": [
            "\n",
            "Association Rules with Lift:\n",
            "Rule: {'K'} -> {'M'},  Lift: 1.00\n",
            "Rule: {'M'} -> {'K'},  Lift: 1.00\n",
            "Rule: {'E'} -> {'K'},  Lift: 1.00\n",
            "Rule: {'K'} -> {'E'},  Lift: 1.00\n",
            "Rule: {'K'} -> {'O'},  Lift: 1.00\n",
            "Rule: {'O'} -> {'K'},  Lift: 1.00\n",
            "Rule: {'K'} -> {'Y'},  Lift: 1.00\n",
            "Rule: {'Y'} -> {'K'},  Lift: 1.00\n",
            "Rule: {'E'} -> {'O'},  Lift: 1.25\n",
            "Rule: {'O'} -> {'E'},  Lift: 1.25\n",
            "Rule: {'K', 'E'} -> {'O'},  Lift: 1.25\n",
            "Rule: {'O', 'E'} -> {'K'},  Lift: 1.00\n",
            "Rule: {'O', 'K'} -> {'E'},  Lift: 1.25\n"
          ]
        }
      ],
      "source": [
        "# Function to Calculate the dependencies between the items\n",
        "def calculate_lift(rules,frequent_itemsets):\n",
        "    lift_rules= []\n",
        "    for left_hand_side, right_hand_side, confidence in rules:\n",
        "        support_antecedent = frequent_itemsets.get(left_hand_side, 0)\n",
        "        support_consequent = frequent_itemsets.get(right_hand_side, 0)\n",
        "        support_union = frequent_itemsets.get(left_hand_side | right_hand_side, 0) if (support_antecedent * support_consequent) > 0 else 0\n",
        "        #dividing the support count by number of transactions to get the probability , where lift= p(A ∪ B) / p(A) * p(B)\n",
        "        lift=support_union/len(data) / ((support_antecedent/len(data)) * (support_consequent)/len(data))\n",
        "        lift_rules.append((left_hand_side, right_hand_side, lift))\n",
        "    return lift_rules\n",
        "\n",
        "#generate every association rule with its lift\n",
        "association_rules_with_lift = calculate_lift(association_rules, frequent_itemsets)\n",
        "\n",
        "print(\"\\nAssociation Rules with Lift:\")\n",
        "for left_hand_side, right_hand_side, lift in association_rules_with_lift:\n",
        "    print(f\"Rule: {set(left_hand_side)} -> {set(right_hand_side)},  Lift: {lift:.2f}\")"
      ]
    },
    {
      "cell_type": "code",
      "execution_count": 49,
      "metadata": {
        "id": "yTfPTuT4ZI2u",
        "outputId": "00e303ca-b225-4708-8045-8a0be68129a8",
        "colab": {
          "base_uri": "https://localhost:8080/"
        }
      },
      "outputs": [
        {
          "output_type": "stream",
          "name": "stdout",
          "text": [
            "\n",
            "Running algorithm with min_support = 4 and min_confidence = 0.7\n",
            "\n",
            "Frequent Itemsets\n",
            "\n",
            "Level 1:\n",
            "Itemset: {'K'}, Support: 5\n",
            "Itemset: {'E'}, Support: 4\n",
            "\n",
            "Level 2:\n",
            "Itemset: {'K', 'E'}, Support: 4\n",
            "--------------------------------------------------\n",
            "\n",
            "Running algorithm with min_support = 5 and min_confidence = 0.9\n",
            "\n",
            "Frequent Itemsets\n",
            "\n",
            "Level 1:\n",
            "Itemset: {'K'}, Support: 5\n",
            "--------------------------------------------------\n",
            "\n",
            "Running algorithm with min_support = 3 and min_confidence = 0.8\n",
            "\n",
            "Frequent Itemsets\n",
            "\n",
            "Level 1:\n",
            "Itemset: {'M'}, Support: 3\n",
            "Itemset: {'K'}, Support: 5\n",
            "Itemset: {'E'}, Support: 4\n",
            "Itemset: {'O'}, Support: 3\n",
            "Itemset: {'Y'}, Support: 3\n",
            "\n",
            "Level 2:\n",
            "Itemset: {'M', 'K'}, Support: 3\n",
            "Itemset: {'K', 'E'}, Support: 4\n",
            "Itemset: {'O', 'K'}, Support: 3\n",
            "Itemset: {'Y', 'K'}, Support: 3\n",
            "Itemset: {'O', 'E'}, Support: 3\n",
            "\n",
            "Level 3:\n",
            "Itemset: {'O', 'K', 'E'}, Support: 3\n",
            "--------------------------------------------------\n"
          ]
        }
      ],
      "source": [
        "def run_algorithm_with_different_support_confidence(data, items, support_values, confidence_values):\n",
        "    for min_support , min_conf in zip(support_values,confidence_values):\n",
        "            print(f\"\\nRunning algorithm with min_support = {min_support} and min_confidence = {min_conf}\")\n",
        "\n",
        "            # Generate frequent itemsets ll support da\n",
        "            frequent_itemsets = generate_frequent_itemsets_for_lengths(data, items, min_support)\n",
        "            display_frequent_itemsets(frequent_itemsets)\n",
        "            print(\"--------------------------------------------------\")\n",
        "\n",
        "#items = set(item for transaction in data for item in transaction)\n",
        "\n",
        "# Define different support and confidence values\n",
        "support_values = [4, 5,3]\n",
        "confidence_values = [0.7, 0.9,0.8]\n",
        "run_algorithm_with_different_support_confidence(data, items, support_values, confidence_values)"
      ]
    }
  ],
  "metadata": {
    "colab": {
      "provenance": [],
      "include_colab_link": true
    },
    "kernelspec": {
      "display_name": "Python 3",
      "language": "python",
      "name": "python3"
    },
    "language_info": {
      "codemirror_mode": {
        "name": "ipython",
        "version": 3
      },
      "file_extension": ".py",
      "mimetype": "text/x-python",
      "name": "python",
      "nbconvert_exporter": "python",
      "pygments_lexer": "ipython3",
      "version": "3.12.5"
    }
  },
  "nbformat": 4,
  "nbformat_minor": 0
}